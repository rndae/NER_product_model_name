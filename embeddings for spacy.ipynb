{
 "cells": [
  {
   "cell_type": "code",
   "execution_count": null,
   "id": "642e88c2",
   "metadata": {},
   "outputs": [],
   "source": []
  },
  {
   "cell_type": "code",
   "execution_count": 1,
   "id": "ad6aaf5f",
   "metadata": {},
   "outputs": [],
   "source": [
    "import pandas as pd\n",
    "import gensim, logging\n",
    "logging.basicConfig(format='%(asctime)s : %(levelname)s : %(message)s', level=logging.INFO)"
   ]
  },
  {
   "cell_type": "code",
   "execution_count": 2,
   "id": "c14b33a6",
   "metadata": {},
   "outputs": [],
   "source": [
    "data = pd.read_csv('amazon_data.csv')"
   ]
  },
  {
   "cell_type": "code",
   "execution_count": 3,
   "id": "de4948ec",
   "metadata": {},
   "outputs": [],
   "source": [
    "# Building sentences\n",
    "\n",
    "titles = data['title'].values.tolist()\n",
    "f = lambda x : x.split(' ')\n",
    "sequences = list(map(f,titles))"
   ]
  },
  {
   "cell_type": "code",
   "execution_count": 4,
   "id": "82b0ce0b",
   "metadata": {},
   "outputs": [
    {
     "data": {
      "text/plain": [
       "65047"
      ]
     },
     "execution_count": 4,
     "metadata": {},
     "output_type": "execute_result"
    }
   ],
   "source": [
    "len(sequences)"
   ]
  },
  {
   "cell_type": "code",
   "execution_count": 5,
   "id": "54c5a806",
   "metadata": {},
   "outputs": [],
   "source": [
    "sequences = list(filter(lambda x: x != '',sequences))"
   ]
  },
  {
   "cell_type": "code",
   "execution_count": 6,
   "id": "47961e50",
   "metadata": {},
   "outputs": [
    {
     "name": "stderr",
     "output_type": "stream",
     "text": [
      "2023-04-12 07:39:10,233 : INFO : collecting all words and their counts\n",
      "2023-04-12 07:39:10,235 : INFO : PROGRESS: at sentence #0, processed 0 words, keeping 0 word types\n",
      "2023-04-12 07:39:10,259 : INFO : PROGRESS: at sentence #10000, processed 181786 words, keeping 3291 word types\n",
      "2023-04-12 07:39:10,287 : INFO : PROGRESS: at sentence #20000, processed 363637 words, keeping 4486 word types\n",
      "2023-04-12 07:39:10,313 : INFO : PROGRESS: at sentence #30000, processed 544660 words, keeping 5458 word types\n",
      "2023-04-12 07:39:10,338 : INFO : PROGRESS: at sentence #40000, processed 726838 words, keeping 6245 word types\n",
      "2023-04-12 07:39:10,366 : INFO : PROGRESS: at sentence #50000, processed 909004 words, keeping 6902 word types\n",
      "2023-04-12 07:39:10,392 : INFO : PROGRESS: at sentence #60000, processed 1091058 words, keeping 7589 word types\n",
      "2023-04-12 07:39:10,405 : INFO : collected 7940 word types from a corpus of 1182843 raw words and 65047 sentences\n",
      "2023-04-12 07:39:10,406 : INFO : Creating a fresh vocabulary\n",
      "2023-04-12 07:39:10,419 : INFO : Word2Vec lifecycle event {'msg': 'effective_min_count=2 retains 3818 unique words (48.085642317380355%% of original 7940, drops 4122)', 'datetime': '2023-04-12T07:39:10.419711', 'gensim': '4.1.2', 'python': '3.9.13 (main, Aug 25 2022, 23:51:50) [MSC v.1916 64 bit (AMD64)]', 'platform': 'Windows-10-10.0.22621-SP0', 'event': 'prepare_vocab'}\n",
      "2023-04-12 07:39:10,421 : INFO : Word2Vec lifecycle event {'msg': 'effective_min_count=2 leaves 1178721 word corpus (99.65151757249271%% of original 1182843, drops 4122)', 'datetime': '2023-04-12T07:39:10.421715', 'gensim': '4.1.2', 'python': '3.9.13 (main, Aug 25 2022, 23:51:50) [MSC v.1916 64 bit (AMD64)]', 'platform': 'Windows-10-10.0.22621-SP0', 'event': 'prepare_vocab'}\n",
      "2023-04-12 07:39:10,440 : INFO : deleting the raw counts dictionary of 7940 items\n",
      "2023-04-12 07:39:10,441 : INFO : sample=0.001 downsamples 30 most-common words\n",
      "2023-04-12 07:39:10,442 : INFO : Word2Vec lifecycle event {'msg': 'downsampling leaves estimated 511158.38810141257 word corpus (43.4%% of prior 1178721)', 'datetime': '2023-04-12T07:39:10.442730', 'gensim': '4.1.2', 'python': '3.9.13 (main, Aug 25 2022, 23:51:50) [MSC v.1916 64 bit (AMD64)]', 'platform': 'Windows-10-10.0.22621-SP0', 'event': 'prepare_vocab'}\n",
      "2023-04-12 07:39:10,474 : INFO : estimated required memory for 3818 words and 200 dimensions: 8017800 bytes\n",
      "2023-04-12 07:39:10,475 : INFO : resetting layer weights\n",
      "2023-04-12 07:39:10,479 : INFO : Word2Vec lifecycle event {'update': False, 'trim_rule': 'None', 'datetime': '2023-04-12T07:39:10.479770', 'gensim': '4.1.2', 'python': '3.9.13 (main, Aug 25 2022, 23:51:50) [MSC v.1916 64 bit (AMD64)]', 'platform': 'Windows-10-10.0.22621-SP0', 'event': 'build_vocab'}\n",
      "2023-04-12 07:39:10,480 : INFO : Word2Vec lifecycle event {'msg': 'training model with 3 workers on 3818 vocabulary and 200 features, using sg=0 hs=0 sample=0.001 negative=5 window=5 shrink_windows=True', 'datetime': '2023-04-12T07:39:10.480784', 'gensim': '4.1.2', 'python': '3.9.13 (main, Aug 25 2022, 23:51:50) [MSC v.1916 64 bit (AMD64)]', 'platform': 'Windows-10-10.0.22621-SP0', 'event': 'train'}\n",
      "2023-04-12 07:39:10,826 : INFO : worker thread finished; awaiting finish of 2 more threads\n",
      "2023-04-12 07:39:10,827 : INFO : worker thread finished; awaiting finish of 1 more threads\n",
      "2023-04-12 07:39:10,828 : INFO : worker thread finished; awaiting finish of 0 more threads\n",
      "2023-04-12 07:39:10,829 : INFO : EPOCH - 1 : training on 1182843 raw words (511274 effective words) took 0.3s, 1489035 effective words/s\n",
      "2023-04-12 07:39:11,174 : INFO : worker thread finished; awaiting finish of 2 more threads\n",
      "2023-04-12 07:39:11,174 : INFO : worker thread finished; awaiting finish of 1 more threads\n",
      "2023-04-12 07:39:11,176 : INFO : worker thread finished; awaiting finish of 0 more threads\n",
      "2023-04-12 07:39:11,176 : INFO : EPOCH - 2 : training on 1182843 raw words (510968 effective words) took 0.3s, 1485651 effective words/s\n",
      "2023-04-12 07:39:11,500 : INFO : worker thread finished; awaiting finish of 2 more threads\n",
      "2023-04-12 07:39:11,501 : INFO : worker thread finished; awaiting finish of 1 more threads\n",
      "2023-04-12 07:39:11,503 : INFO : worker thread finished; awaiting finish of 0 more threads\n",
      "2023-04-12 07:39:11,504 : INFO : EPOCH - 3 : training on 1182843 raw words (511687 effective words) took 0.3s, 1583977 effective words/s\n",
      "2023-04-12 07:39:11,846 : INFO : worker thread finished; awaiting finish of 2 more threads\n",
      "2023-04-12 07:39:11,849 : INFO : worker thread finished; awaiting finish of 1 more threads\n",
      "2023-04-12 07:39:11,850 : INFO : worker thread finished; awaiting finish of 0 more threads\n",
      "2023-04-12 07:39:11,850 : INFO : EPOCH - 4 : training on 1182843 raw words (511397 effective words) took 0.3s, 1498773 effective words/s\n",
      "2023-04-12 07:39:12,150 : INFO : worker thread finished; awaiting finish of 2 more threads\n",
      "2023-04-12 07:39:12,151 : INFO : worker thread finished; awaiting finish of 1 more threads\n",
      "2023-04-12 07:39:12,152 : INFO : worker thread finished; awaiting finish of 0 more threads\n",
      "2023-04-12 07:39:12,153 : INFO : EPOCH - 5 : training on 1182843 raw words (511756 effective words) took 0.3s, 1721056 effective words/s\n",
      "2023-04-12 07:39:12,473 : INFO : worker thread finished; awaiting finish of 2 more threads\n",
      "2023-04-12 07:39:12,474 : INFO : worker thread finished; awaiting finish of 1 more threads\n",
      "2023-04-12 07:39:12,477 : INFO : worker thread finished; awaiting finish of 0 more threads\n",
      "2023-04-12 07:39:12,477 : INFO : EPOCH - 6 : training on 1182843 raw words (511622 effective words) took 0.3s, 1596704 effective words/s\n",
      "2023-04-12 07:39:12,816 : INFO : worker thread finished; awaiting finish of 2 more threads\n",
      "2023-04-12 07:39:12,817 : INFO : worker thread finished; awaiting finish of 1 more threads\n",
      "2023-04-12 07:39:12,818 : INFO : worker thread finished; awaiting finish of 0 more threads\n",
      "2023-04-12 07:39:12,819 : INFO : EPOCH - 7 : training on 1182843 raw words (510345 effective words) took 0.3s, 1517279 effective words/s\n",
      "2023-04-12 07:39:13,138 : INFO : worker thread finished; awaiting finish of 2 more threads\n",
      "2023-04-12 07:39:13,140 : INFO : worker thread finished; awaiting finish of 1 more threads\n",
      "2023-04-12 07:39:13,141 : INFO : worker thread finished; awaiting finish of 0 more threads\n",
      "2023-04-12 07:39:13,141 : INFO : EPOCH - 8 : training on 1182843 raw words (510976 effective words) took 0.3s, 1607887 effective words/s\n",
      "2023-04-12 07:39:13,437 : INFO : worker thread finished; awaiting finish of 2 more threads\n",
      "2023-04-12 07:39:13,439 : INFO : worker thread finished; awaiting finish of 1 more threads\n",
      "2023-04-12 07:39:13,440 : INFO : worker thread finished; awaiting finish of 0 more threads\n",
      "2023-04-12 07:39:13,441 : INFO : EPOCH - 9 : training on 1182843 raw words (510894 effective words) took 0.3s, 1730243 effective words/s\n",
      "2023-04-12 07:39:13,771 : INFO : worker thread finished; awaiting finish of 2 more threads\n",
      "2023-04-12 07:39:13,772 : INFO : worker thread finished; awaiting finish of 1 more threads\n",
      "2023-04-12 07:39:13,773 : INFO : worker thread finished; awaiting finish of 0 more threads\n",
      "2023-04-12 07:39:13,773 : INFO : EPOCH - 10 : training on 1182843 raw words (511312 effective words) took 0.3s, 1557124 effective words/s\n",
      "2023-04-12 07:39:13,774 : INFO : Word2Vec lifecycle event {'msg': 'training on 11828430 raw words (5112231 effective words) took 3.3s, 1552051 effective words/s', 'datetime': '2023-04-12T07:39:13.774751', 'gensim': '4.1.2', 'python': '3.9.13 (main, Aug 25 2022, 23:51:50) [MSC v.1916 64 bit (AMD64)]', 'platform': 'Windows-10-10.0.22621-SP0', 'event': 'train'}\n",
      "2023-04-12 07:39:13,774 : INFO : Word2Vec lifecycle event {'params': 'Word2Vec(vocab=3818, vector_size=200, alpha=0.025)', 'datetime': '2023-04-12T07:39:13.774751', 'gensim': '4.1.2', 'python': '3.9.13 (main, Aug 25 2022, 23:51:50) [MSC v.1916 64 bit (AMD64)]', 'platform': 'Windows-10-10.0.22621-SP0', 'event': 'created'}\n"
     ]
    }
   ],
   "source": [
    "model = gensim.models.Word2Vec(sequences, min_count=2,vector_size=200,epochs=10)"
   ]
  },
  {
   "cell_type": "code",
   "execution_count": 8,
   "id": "686974cd",
   "metadata": {},
   "outputs": [
    {
     "data": {
      "text/plain": [
       "[('Vivo', 0.4517143666744232),\n",
       " ('Gionee', 0.4106907844543457),\n",
       " ('Xperia', 0.3980717062950134),\n",
       " ('Lenovo', 0.3912377953529358),\n",
       " ('Oppo', 0.3788379430770874),\n",
       " ('M31', 0.3752977252006531),\n",
       " ('(2016)', 0.3744976222515106),\n",
       " ('Nokia', 0.3744601905345917),\n",
       " ('(BX035/NVY)', 0.36061081290245056),\n",
       " ('Duo', 0.3519923686981201)]"
      ]
     },
     "execution_count": 8,
     "metadata": {},
     "output_type": "execute_result"
    }
   ],
   "source": [
    "model.wv.most_similar('Samsung')"
   ]
  },
  {
   "cell_type": "code",
   "execution_count": 14,
   "id": "460dd2e3",
   "metadata": {},
   "outputs": [
    {
     "data": {
      "text/plain": [
       "0.51453906"
      ]
     },
     "execution_count": 14,
     "metadata": {},
     "output_type": "execute_result"
    }
   ],
   "source": [
    "model.wv.similarity('Sony','LG')"
   ]
  },
  {
   "cell_type": "code",
   "execution_count": 15,
   "id": "9784b08f",
   "metadata": {},
   "outputs": [
    {
     "data": {
      "text/plain": [
       "-0.24980243"
      ]
     },
     "execution_count": 15,
     "metadata": {},
     "output_type": "execute_result"
    }
   ],
   "source": [
    "model.wv.similarity('Sony','Centrino')"
   ]
  },
  {
   "cell_type": "code",
   "execution_count": 17,
   "id": "989f5cc3",
   "metadata": {},
   "outputs": [],
   "source": [
    "v = model.wv['Lenovo'] - model.wv['Computer'] + model.wv['Laptop']"
   ]
  },
  {
   "cell_type": "code",
   "execution_count": 18,
   "id": "44eba52d",
   "metadata": {},
   "outputs": [
    {
     "data": {
      "text/plain": [
       "[('Lenovo', 0.9973586201667786),\n",
       " ('Coolpad', 0.5602602958679199),\n",
       " ('Vivo', 0.5501912236213684),\n",
       " ('Gionee', 0.5353718400001526),\n",
       " ('LG', 0.5314850211143494),\n",
       " ('Oppo', 0.531215488910675),\n",
       " ('Motorola', 0.5013256072998047),\n",
       " ('Micromax', 0.48575329780578613),\n",
       " ('Nokia', 0.48354530334472656),\n",
       " ('Sony', 0.47122541069984436)]"
      ]
     },
     "execution_count": 18,
     "metadata": {},
     "output_type": "execute_result"
    }
   ],
   "source": [
    "model.wv.most_similar(v)"
   ]
  },
  {
   "cell_type": "code",
   "execution_count": 19,
   "id": "03a8b1d5",
   "metadata": {},
   "outputs": [
    {
     "name": "stderr",
     "output_type": "stream",
     "text": [
      "2023-04-12 07:43:43,892 : INFO : storing 3818x200 projection weights into embeddings/w2v.txt\n"
     ]
    }
   ],
   "source": [
    "model.wv.save_word2vec_format('embeddings/w2v.txt', binary=False)"
   ]
  },
  {
   "cell_type": "code",
   "execution_count": 20,
   "id": "2043d9ed",
   "metadata": {},
   "outputs": [
    {
     "name": "stdout",
     "output_type": "stream",
     "text": [
      "[i] Creating blank nlp object for language 'en'\n",
      "[+] Successfully converted 3818 vectors\n",
      "[+] Saved nlp object with vectors to output directory. You can now use the path\n",
      "to it in your config as the 'vectors' setting in [initialize].\n",
      "C:\\Users\\rockr\\OneDrive - Knights - University of Central\n",
      "Florida\\Documents\\CAP6650-NLP\\Final Project\\Source code\\spacy_embeddings\n"
     ]
    },
    {
     "name": "stderr",
     "output_type": "stream",
     "text": [
      "[2023-04-12 07:44:26,186] [INFO] Reading vectors from embeddings\\w2v.txt\n",
      "\n",
      "0it [00:00, ?it/s]\n",
      "2063it [00:00, 20442.42it/s]\n",
      "3818it [00:00, 19839.70it/s]\n",
      "[2023-04-12 07:44:26,389] [INFO] Loaded vectors from embeddings\\w2v.txt\n"
     ]
    }
   ],
   "source": [
    "!python -m spacy init vectors en embeddings/w2v.txt spacy_embeddings --name title_vectors"
   ]
  },
  {
   "cell_type": "code",
   "execution_count": 21,
   "id": "87745634",
   "metadata": {},
   "outputs": [],
   "source": [
    "import spacy\n",
    "nlp = spacy.load('spacy_embeddings')"
   ]
  },
  {
   "cell_type": "code",
   "execution_count": 22,
   "id": "4694e8ec",
   "metadata": {},
   "outputs": [],
   "source": [
    "nlp.add_pipe('ner')\n",
    "nlp.to_disk('spacy_embeddings')"
   ]
  },
  {
   "cell_type": "code",
   "execution_count": 23,
   "id": "3951431e",
   "metadata": {},
   "outputs": [
    {
     "name": "stdout",
     "output_type": "stream",
     "text": [
      "[+] Created output directory: ner_amazon_embedding\n",
      "[i] Saving to output directory: ner_amazon_embedding\n",
      "[i] Using CPU\n",
      "\u001b[1m\n",
      "=========================== Initializing pipeline ===========================\u001b[0m\n",
      "[+] Initialized pipeline\n",
      "\u001b[1m\n",
      "============================= Training pipeline =============================\u001b[0m\n",
      "[i] Pipeline: ['ner']\n",
      "[i] Initial learn rate: 0.001\n",
      "E    #       LOSS NER  ENTS_F  ENTS_P  ENTS_R  SCORE \n",
      "---  ------  --------  ------  ------  ------  ------\n",
      "  0       0     55.20    0.00    0.00    0.00    0.00\n",
      "  0     200   2172.32    0.00    0.00    0.00    0.00\n",
      "  0     400    291.13    0.00    0.00    0.00    0.00\n",
      "  0     600    214.99    0.00    0.00    0.00    0.00\n",
      "  0     800    182.85    0.00    0.00    0.00    0.00\n",
      "  0    1000    185.54    0.00    0.00    0.00    0.00\n",
      "  0    1200    205.07    0.00    0.00    0.00    0.00\n",
      "  0    1400    234.29    0.00    0.00    0.00    0.00\n",
      "  0    1600    261.47    0.00    0.00    0.00    0.00\n",
      "[+] Saved pipeline to output directory\n",
      "ner_amazon_embedding\\model-last\n"
     ]
    },
    {
     "name": "stderr",
     "output_type": "stream",
     "text": [
      "[2023-04-12 07:45:56,414] [INFO] Set up nlp object from config\n",
      "[2023-04-12 07:45:56,422] [INFO] Pipeline: ['ner']\n",
      "[2023-04-12 07:45:56,425] [INFO] Created vocabulary\n",
      "[2023-04-12 07:45:56,426] [INFO] Finished initializing nlp object\n",
      "[2023-04-12 07:46:05,536] [INFO] Initialized pipeline components: ['ner']\n"
     ]
    }
   ],
   "source": [
    "!python -m spacy train spacy_embeddings/config.cfg --output ner_amazon_embedding --paths.train train_shuffle.spacy --paths.dev dev_shuffle.spacy"
   ]
  },
  {
   "cell_type": "code",
   "execution_count": null,
   "id": "f699ded3",
   "metadata": {},
   "outputs": [],
   "source": []
  }
 ],
 "metadata": {
  "kernelspec": {
   "display_name": "Python 3 (ipykernel)",
   "language": "python",
   "name": "python3"
  },
  "language_info": {
   "codemirror_mode": {
    "name": "ipython",
    "version": 3
   },
   "file_extension": ".py",
   "mimetype": "text/x-python",
   "name": "python",
   "nbconvert_exporter": "python",
   "pygments_lexer": "ipython3",
   "version": "3.9.13"
  }
 },
 "nbformat": 4,
 "nbformat_minor": 5
}
